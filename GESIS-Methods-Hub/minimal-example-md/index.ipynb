{
  "cells": [
    {
      "cell_type": "raw",
      "metadata": {},
      "source": [
        "---\n",
        "title: \"Minimal Example of Tutorial in Markdown\"\n",
        "author: Raniere Silva\n",
        "---"
      ]
    },
    {
      "cell_type": "markdown",
      "metadata": {},
      "source": [
        "This example demonstrates the **required** metadata by Methods Hub.\n",
        "\n",
        "## Binder\n",
        "\n",
        "The link to Binder will launch the default Jupyter Lab interface.\n",
        "\n",
        "## Dependencies\n",
        "\n",
        "![Quarto](img/quarto.png)"
      ]
    }
  ],
  "metadata": {
    "kernelspec": {
      "name": "python3",
      "language": "python",
      "display_name": "Python 3 (ipykernel)"
    }
  },
  "nbformat": 4,
  "nbformat_minor": 4
}